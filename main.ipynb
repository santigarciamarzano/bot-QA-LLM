{
 "cells": [
  {
   "cell_type": "code",
   "execution_count": null,
   "metadata": {},
   "outputs": [],
   "source": [
    "from langchain.document_loaders import PyPDFLoader\n",
    "from langchain.text_splitter import CharacterTextSplitter\n",
    "from src.embeddings import create_and_persist_embeddings, load_embeddings\n",
    "from src.model import load_model\n",
    "from src.retriever import create_qa_chain\n",
    "import src.config as config\n",
    "\n",
    "# 1. Cargar y procesar el PDF\n",
    "loader = PyPDFLoader(config.PDF_PATH)\n",
    "docs = loader.load()\n",
    "splitter = CharacterTextSplitter(\n",
    "    separator=\"\\n\",\n",
    "    chunk_size=650,\n",
    "    chunk_overlap=85,\n",
    "    length_function=len\n",
    ")\n",
    "fragmentos = splitter.split_documents(docs)"
   ]
  },
  {
   "cell_type": "code",
   "execution_count": null,
   "metadata": {},
   "outputs": [],
   "source": [
    "# 2. Crear o cargar embeddings\n",
    "vectordb = create_and_persist_embeddings(fragmentos, config.PERSIST_DIRECTORY)"
   ]
  },
  {
   "cell_type": "code",
   "execution_count": null,
   "metadata": {},
   "outputs": [],
   "source": [
    "# 3. Cargar el modelo de lenguaje\n",
    "llm = load_model(config.LLM_MODEL_NAME)"
   ]
  },
  {
   "cell_type": "code",
   "execution_count": null,
   "metadata": {},
   "outputs": [],
   "source": [
    "# 4. Crear el QA Chain\n",
    "qa_chain = create_qa_chain(llm, vectordb.as_retriever())"
   ]
  },
  {
   "cell_type": "code",
   "execution_count": null,
   "metadata": {},
   "outputs": [],
   "source": [
    "# 5. Hacer una consulta\n",
    "question = \"¿Qué es un ábaco?\"\n",
    "result = qa_chain({\"query\": question})"
   ]
  },
  {
   "cell_type": "code",
   "execution_count": null,
   "metadata": {},
   "outputs": [],
   "source": [
    "# 6. Mostrar resultados\n",
    "print(\"Respuesta:\", result[\"result\"])\n",
    "for idx, doc in enumerate(result[\"source_documents\"], 1):\n",
    "    print(f\"Documento {idx}: {doc.page_content}\")"
   ]
  }
 ],
 "metadata": {
  "kernelspec": {
   "display_name": "langchain",
   "language": "python",
   "name": "python3"
  },
  "language_info": {
   "codemirror_mode": {
    "name": "ipython",
    "version": 3
   },
   "file_extension": ".py",
   "mimetype": "text/x-python",
   "name": "python",
   "nbconvert_exporter": "python",
   "pygments_lexer": "ipython3",
   "version": "3.10.15"
  }
 },
 "nbformat": 4,
 "nbformat_minor": 2
}
